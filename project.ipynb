{
 "cells": [
  {
   "cell_type": "code",
   "execution_count": 316,
   "metadata": {},
   "outputs": [],
   "source": [
    "import pandas as pd\n",
    "import numpy as np\n",
    "import matplotlib as mplt\n",
    "import matplotlib.pyplot as plt\n",
    "import scipy.stats as stats\n",
    "import scipy\n",
    "\n",
    "import time\n",
    "from sklearn.decomposition import PCA\n",
    "\n",
    "from sklearn.neighbors import NearestNeighbors\n",
    "from sklearn import neighbors\n",
    "\n",
    "from matplotlib.colors import ListedColormap\n",
    "\n",
    "import statsmodels.api as sm\n",
    "from sklearn import linear_model\n",
    "\n"
   ]
  },
  {
   "cell_type": "code",
   "execution_count": null,
   "metadata": {},
   "outputs": [],
   "source": [
    "data = pd.DataFrame.from_csv(\"/Users/raphaelpresberg/Desktop/Stevens/BIA 652 Multivariate Data Analysis/NYC_Taxis/NYC_taxis.csv\")\n",
    "\n",
    "\n",
    "#data understanding\n",
    "data.head()\n",
    "data.tail(10)\n",
    "sLength = len(data['Pickup Time'])\n",
    "data['Trip time'] = pd.Series(np.random.randn(sLength), index = data.index)\n",
    "data['new_col'] = range(0, sLength)\n",
    "data = data.reset_index()\n",
    "data['new_col'] = data.index\n",
    "print(data.head())\n",
    "data.info()\n",
    "data.describe()\n",
    "\n"
   ]
  },
  {
   "cell_type": "code",
   "execution_count": null,
   "metadata": {},
   "outputs": [],
   "source": [
    "\n",
    "def basics_info (initial_numpy_array):\n",
    "    print(\"Mean: \", np.mean(initial_numpy_array))\n",
    "    #median cost of a trip without @ without taxes\n",
    "    print(\"Median: \", np.median(initial_numpy_array))\n",
    "    #The numpy.ptp() function returns the range (maximum-minimum) of values along an axis.\n",
    "    print(\"Range: \", np.ptp(initial_numpy_array))\n",
    "    #standard deviation & variance\n",
    "    print(\"SD: \", np.std(initial_numpy_array))\n",
    "    print(\"Variance: \", np.var(initial_numpy_array))\n",
    "    plt.plot(initial_numpy_array)\n",
    "    plt.show() \n",
    "\n",
    "\n",
    "#removing outliers and compute the distribution plot\n",
    "\n",
    "def removeOutliers(x):\n",
    "    a = np.array(x)\n",
    "    outlierConstant = 1\n",
    "    upper_quartile = np.percentile(a, 75)\n",
    "    lower_quartile = np.percentile(a, 25)\n",
    "    IQR = (upper_quartile - lower_quartile) * outlierConstant\n",
    "    quartileSet = (lower_quartile - IQR, upper_quartile + IQR)\n",
    "    resultList = []\n",
    "    for y in a.tolist():\n",
    "        if y >= quartileSet[0] and y <= quartileSet[1]:\n",
    "            resultList.append(y)\n",
    "    return resultList\n",
    "\n",
    "def prob_plot(variable):\n",
    "    \n",
    "    mu = np.mean(variable)\n",
    "    sigma = np.std(variable)\n",
    "\n",
    "    mu, sigma = mu, sigma\n",
    "    x = mu + sigma * np.array(variable)\n",
    "\n",
    "    # the histogram of the data\n",
    "    n, bins, patches = plt.hist(x, 50, normed=1, facecolor='g', alpha=0.95)\n",
    "\n",
    "\n",
    "    plt.xlabel(\"Prob \")\n",
    "    plt.ylabel('Probability')\n",
    "    plt.title('Proba Plot')\n",
    "   # plt.text(60, .025, r'$\\mu=100,\\ \\sigma=15$')\n",
    "    plt.axis([20, 190, 0, 0.03])\n",
    "    plt.grid(True)\n",
    "    plt.show()\n",
    "    \n",
    "\n"
   ]
  },
  {
   "cell_type": "code",
   "execution_count": null,
   "metadata": {},
   "outputs": [],
   "source": [
    "#*******************************************\n",
    "#STUDY FOR TOTAL AMOUNT \n",
    "#*******************************************\n",
    "total_amount = data.as_matrix(columns = data.columns[19:20])\n",
    "\n",
    "basics_info(total_amount)\n",
    "good_total_amount = removeOutliers(total_amount)\n",
    "prob_plot(good_total_amount)\n"
   ]
  },
  {
   "cell_type": "code",
   "execution_count": null,
   "metadata": {},
   "outputs": [],
   "source": [
    "#*******************************************\n",
    "#STUDY FOR FARE AMOUNT \n",
    "#*******************************************\n",
    "\n",
    "fare_amount = data.as_matrix(columns=data.columns[17:118])\n",
    "\n",
    "basics_info(fare_amount)\n",
    "good_fair_amount = removeOutliers(data[['Fare Amount']])\n",
    "prob_plot(good_fair_amount)\n"
   ]
  },
  {
   "cell_type": "code",
   "execution_count": null,
   "metadata": {},
   "outputs": [],
   "source": [
    "#*******************************************\n",
    "#STUDY FOR TIP AMOUNT \n",
    "#*******************************************\n",
    "\n",
    "tip_amount = data.as_matrix(columns=data.columns[14:15])\n",
    "\n",
    "basics_info(tip_amount)\n",
    "good_tip_amount = removeOutliers(tip_amount)\n",
    "prob_plot(good_tip_amount)\n"
   ]
  },
  {
   "cell_type": "code",
   "execution_count": null,
   "metadata": {},
   "outputs": [],
   "source": [
    "x = total_amount\n",
    "pca = PCA(n_components=1)\n",
    "pca.fit(x)\n",
    "print(pca.explained_variance_ratio_)\n",
    "print(pca.singular_values_)  \n",
    "\n"
   ]
  },
  {
   "cell_type": "code",
   "execution_count": null,
   "metadata": {},
   "outputs": [],
   "source": [
    "#a = pickup time\n",
    "#b = dropoff time\n",
    "a = data.as_matrix(columns=data.columns[0:1])\n",
    "b = data.as_matrix(columns=data.columns[2:3])\n",
    "c = \"0:00:00.000\"\n",
    "a\n",
    "#x = a[0]\n",
    "c.split(':')\n"
   ]
  },
  {
   "cell_type": "code",
   "execution_count": null,
   "metadata": {},
   "outputs": [],
   "source": [
    "#%H # ==> heure pour heures de 1 a 23\n",
    "#%M # ==> minutes \n",
    "\n",
    "# string to time tuple\n",
    "time_str = \"17:53:59\"\n",
    "time_tuple = time.strptime(time_str, \"%H:%M:%S\")\n",
    "print(time_tuple)\n",
    "x= time_tuple[3:5]\n",
    "nb_minutes = x[0]*60 + x[1]\n",
    "nb_minutes"
   ]
  },
  {
   "cell_type": "code",
   "execution_count": null,
   "metadata": {},
   "outputs": [],
   "source": [
    "test= pd.DataFrame(a)[1:100]\n",
    "new_dt = test.apply(lambda x: str(x).split(\":\"), axis=1)\n",
    "new_dt\n",
    "#hours = new_dt.as_matrix()\n",
    "#hours\n"
   ]
  },
  {
   "cell_type": "code",
   "execution_count": null,
   "metadata": {},
   "outputs": [],
   "source": [
    "x = np.array([\"fdp:connars\",  \"fdp:salopr\",  \"ju:jkfen\"])\n",
    "\n",
    "x.rpartition(x,':')\n"
   ]
  },
  {
   "cell_type": "code",
   "execution_count": null,
   "metadata": {},
   "outputs": [],
   "source": [
    "type(data.columns[1])\n"
   ]
  },
  {
   "cell_type": "code",
   "execution_count": null,
   "metadata": {},
   "outputs": [],
   "source": [
    "#if (drop off date = pickup date):\n",
    "#    Dropoff Time - Pickup Time\n",
    "#else: \n",
    "#    abs_value =abs(DT - PT)\n",
    "#    1440 - abs_value\n",
    "\n",
    "data.head()\n",
    "\n"
   ]
  },
  {
   "cell_type": "code",
   "execution_count": 338,
   "metadata": {},
   "outputs": [
    {
     "data": {
      "text/plain": [
       "['Pickup Date',\n",
       " 'Pickup Time',\n",
       " 'Dropoff Date',\n",
       " 'Dropoff Time',\n",
       " 'Vendor ID',\n",
       " 'Passenger Count',\n",
       " 'Trip Distance (in miles)',\n",
       " 'Pickup Longitude',\n",
       " 'Pickup Latitude',\n",
       " 'Rate Code',\n",
       " 'Store and Forward Flag',\n",
       " 'Dropoff Longitude',\n",
       " 'Dropoff Latitude',\n",
       " 'Payment Type',\n",
       " 'Fare Amount',\n",
       " 'Surcharge',\n",
       " 'MTA Tax',\n",
       " 'Tip Amount',\n",
       " 'Tolls Amount',\n",
       " 'Total Amount',\n",
       " 'Trip time',\n",
       " 'new_col']"
      ]
     },
     "execution_count": 338,
     "metadata": {},
     "output_type": "execute_result"
    }
   ],
   "source": [
    "list(data)"
   ]
  },
  {
   "cell_type": "code",
   "execution_count": null,
   "metadata": {},
   "outputs": [],
   "source": [
    "#Tip Analysis \n",
    "#Question: generous/not generous customer\n",
    "\n",
    "#variable to use ==> total amount, passenger count, trip distance, rate code, surcharge\n",
    "#Output ==> tip amount\n",
    "\n",
    "tip_data = data[['Total Amount', 'Passenger Count', 'Trip Distance (in miles)', 'Rate Code', 'Surcharge', 'Tip Amount']]\n",
    "tip_data\n",
    "tip_data.describe()\n",
    "\n",
    "#Creating train and test dataset (2/3 - 1/3)\n",
    "msk = np.random.rand(len(tip_data)) < 0.66\n",
    "tip_train = tip_data[msk]\n",
    "tip_test = tip_data[~msk]\n",
    "\n",
    "\n",
    "#2 categories to classify ==> Not Generous, Generous\n",
    "\n",
    "#tip_data[\"Generous or not\"] = 0\n",
    "tip_data.info()\n",
    "tip_data.head()\n",
    "tip_data.tail()\n",
    "#neigh = KNeighborsClassifier(n_neighbors=3)\n",
    "#neigh.fit(X, y) \n",
    "#KNeighborsClassifier(...)\n",
    "#print(neigh.predict([[1.1]]))\n",
    "\n",
    "#print(neigh.predict_proba([[0.9]]))\n",
    "\n"
   ]
  },
  {
   "cell_type": "code",
   "execution_count": null,
   "metadata": {},
   "outputs": [
    {
     "name": "stderr",
     "output_type": "stream",
     "text": [
      "/usr/local/lib/python3.6/site-packages/ipykernel_launcher.py:3: SettingWithCopyWarning: \n",
      "A value is trying to be set on a copy of a slice from a DataFrame.\n",
      "Try using .loc[row_indexer,col_indexer] = value instead\n",
      "\n",
      "See the caveats in the documentation: http://pandas.pydata.org/pandas-docs/stable/indexing.html#indexing-view-versus-copy\n",
      "  This is separate from the ipykernel package so we can avoid doing imports until\n",
      "/usr/local/lib/python3.6/site-packages/pandas/core/indexing.py:517: SettingWithCopyWarning: \n",
      "A value is trying to be set on a copy of a slice from a DataFrame.\n",
      "Try using .loc[row_indexer,col_indexer] = value instead\n",
      "\n",
      "See the caveats in the documentation: http://pandas.pydata.org/pandas-docs/stable/indexing.html#indexing-view-versus-copy\n",
      "  self.obj[item] = s\n"
     ]
    }
   ],
   "source": [
    "a = tip_data.as_matrix(columns = tip_data.columns[5:6])\n",
    "\n",
    "tip_data[\"Generous ?\"] = \"\"\n",
    "\n",
    "i=0\n",
    "for i in range(0,727309) :\n",
    "    if a[i]== 0:\n",
    "        tip_data.ix[[i],[\"Generous ?\"]] = \"not generous\"\n",
    "    else:\n",
    "        tip_data.ix[[i],[\"Generous ?\"]] = \"generous\"\n",
    "        \n",
    "tip_data"
   ]
  },
  {
   "cell_type": "code",
   "execution_count": null,
   "metadata": {},
   "outputs": [],
   "source": [
    "tip_data[\"Generous ?\"] = \"\"\n",
    "\n",
    "tip_data[\"Generous ?\"]"
   ]
  },
  {
   "cell_type": "code",
   "execution_count": 334,
   "metadata": {},
   "outputs": [
    {
     "data": {
      "text/html": [
       "<table class=\"simpletable\">\n",
       "<caption>OLS Regression Results</caption>\n",
       "<tr>\n",
       "  <th>Dep. Variable:</th>       <td>Tip Amount</td>    <th>  R-squared:         </th>  <td>   0.451</td>  \n",
       "</tr>\n",
       "<tr>\n",
       "  <th>Model:</th>                   <td>OLS</td>       <th>  Adj. R-squared:    </th>  <td>   0.451</td>  \n",
       "</tr>\n",
       "<tr>\n",
       "  <th>Method:</th>             <td>Least Squares</td>  <th>  F-statistic:       </th>  <td>1.194e+05</td> \n",
       "</tr>\n",
       "<tr>\n",
       "  <th>Date:</th>             <td>Tue, 10 Apr 2018</td> <th>  Prob (F-statistic):</th>   <td>  0.00</td>   \n",
       "</tr>\n",
       "<tr>\n",
       "  <th>Time:</th>                 <td>17:23:14</td>     <th>  Log-Likelihood:    </th> <td>-1.5591e+06</td>\n",
       "</tr>\n",
       "<tr>\n",
       "  <th>No. Observations:</th>      <td>727310</td>      <th>  AIC:               </th>  <td>3.118e+06</td> \n",
       "</tr>\n",
       "<tr>\n",
       "  <th>Df Residuals:</th>          <td>727305</td>      <th>  BIC:               </th>  <td>3.118e+06</td> \n",
       "</tr>\n",
       "<tr>\n",
       "  <th>Df Model:</th>              <td>     5</td>      <th>                     </th>      <td> </td>     \n",
       "</tr>\n",
       "<tr>\n",
       "  <th>Covariance Type:</th>      <td>nonrobust</td>    <th>                     </th>      <td> </td>     \n",
       "</tr>\n",
       "</table>\n",
       "<table class=\"simpletable\">\n",
       "<tr>\n",
       "              <td></td>                <th>coef</th>     <th>std err</th>      <th>t</th>      <th>P>|t|</th>  <th>[0.025</th>    <th>0.975]</th>  \n",
       "</tr>\n",
       "<tr>\n",
       "  <th>Total Amount</th>             <td>    0.1039</td> <td>    0.000</td> <td>  571.609</td> <td> 0.000</td> <td>    0.104</td> <td>    0.104</td>\n",
       "</tr>\n",
       "<tr>\n",
       "  <th>Passenger Count</th>          <td>   -0.0502</td> <td>    0.002</td> <td>  -32.171</td> <td> 0.000</td> <td>   -0.053</td> <td>   -0.047</td>\n",
       "</tr>\n",
       "<tr>\n",
       "  <th>Trip Distance (in miles)</th> <td>-3.052e-08</td> <td> 1.72e-07</td> <td>   -0.177</td> <td> 0.859</td> <td>-3.68e-07</td> <td> 3.07e-07</td>\n",
       "</tr>\n",
       "<tr>\n",
       "  <th>Rate Code</th>                <td>   -0.1811</td> <td>    0.003</td> <td>  -54.792</td> <td> 0.000</td> <td>   -0.188</td> <td>   -0.175</td>\n",
       "</tr>\n",
       "<tr>\n",
       "  <th>Surcharge</th>                <td>    0.0402</td> <td>    0.006</td> <td>    6.227</td> <td> 0.000</td> <td>    0.028</td> <td>    0.053</td>\n",
       "</tr>\n",
       "</table>\n",
       "<table class=\"simpletable\">\n",
       "<tr>\n",
       "  <th>Omnibus:</th>       <td>2575718.182</td> <th>  Durbin-Watson:     </th>      <td>   2.001</td>     \n",
       "</tr>\n",
       "<tr>\n",
       "  <th>Prob(Omnibus):</th>   <td> 0.000</td>    <th>  Jarque-Bera (JB):  </th> <td>20341246372818.117</td>\n",
       "</tr>\n",
       "<tr>\n",
       "  <th>Skew:</th>            <td>68.946</td>    <th>  Prob(JB):          </th>      <td>    0.00</td>     \n",
       "</tr>\n",
       "<tr>\n",
       "  <th>Kurtosis:</th>       <td>25910.677</td>  <th>  Cond. No.          </th>      <td>3.79e+04</td>     \n",
       "</tr>\n",
       "</table>"
      ],
      "text/plain": [
       "<class 'statsmodels.iolib.summary.Summary'>\n",
       "\"\"\"\n",
       "                            OLS Regression Results                            \n",
       "==============================================================================\n",
       "Dep. Variable:             Tip Amount   R-squared:                       0.451\n",
       "Model:                            OLS   Adj. R-squared:                  0.451\n",
       "Method:                 Least Squares   F-statistic:                 1.194e+05\n",
       "Date:                Tue, 10 Apr 2018   Prob (F-statistic):               0.00\n",
       "Time:                        17:23:14   Log-Likelihood:            -1.5591e+06\n",
       "No. Observations:              727310   AIC:                         3.118e+06\n",
       "Df Residuals:                  727305   BIC:                         3.118e+06\n",
       "Df Model:                           5                                         \n",
       "Covariance Type:            nonrobust                                         \n",
       "============================================================================================\n",
       "                               coef    std err          t      P>|t|      [0.025      0.975]\n",
       "--------------------------------------------------------------------------------------------\n",
       "Total Amount                 0.1039      0.000    571.609      0.000       0.104       0.104\n",
       "Passenger Count             -0.0502      0.002    -32.171      0.000      -0.053      -0.047\n",
       "Trip Distance (in miles) -3.052e-08   1.72e-07     -0.177      0.859   -3.68e-07    3.07e-07\n",
       "Rate Code                   -0.1811      0.003    -54.792      0.000      -0.188      -0.175\n",
       "Surcharge                    0.0402      0.006      6.227      0.000       0.028       0.053\n",
       "==============================================================================\n",
       "Omnibus:                  2575718.182   Durbin-Watson:                   2.001\n",
       "Prob(Omnibus):                  0.000   Jarque-Bera (JB):   20341246372818.117\n",
       "Skew:                          68.946   Prob(JB):                         0.00\n",
       "Kurtosis:                   25910.677   Cond. No.                     3.79e+04\n",
       "==============================================================================\n",
       "\n",
       "Warnings:\n",
       "[1] Standard Errors assume that the covariance matrix of the errors is correctly specified.\n",
       "[2] The condition number is large, 3.79e+04. This might indicate that there are\n",
       "strong multicollinearity or other numerical problems.\n",
       "\"\"\""
      ]
     },
     "execution_count": 334,
     "metadata": {},
     "output_type": "execute_result"
    }
   ],
   "source": [
    "#https://towardsdatascience.com/simple-and-multiple-linear-regression-in-python-c928425168f9\n",
    "\n",
    "#***************************************************************************************************************\n",
    "#Multiple Regression \n",
    "#***************************************************************************************************************\n",
    "\n",
    "\n",
    "# WITH STATSMODELS\n",
    "\n",
    "target = pd.DataFrame(data[['Tip Amount']])\n",
    "\n",
    "df = pd.DataFrame( data[['Total Amount', 'Passenger Count', 'Trip Distance (in miles)', 'Rate Code', 'Surcharge']])\n",
    "\n",
    "#Multiple Regression \n",
    "#Prediction of the tip the customer will give in function of the other variables we selected \n",
    "X = df[['Total Amount', 'Passenger Count', 'Trip Distance (in miles)', 'Rate Code', 'Surcharge']]\n",
    "y = target[\"Tip Amount\"]\n",
    "\n",
    "model = sm.OLS(y, X).fit()\n",
    "predictions = model.predict(X) \n",
    "\n",
    "model.summary()\n",
    "\n",
    "#Analysis: R^2 = 0.451 means this model explain only 45,1% of the variance in our dependent variable\n"
   ]
  },
  {
   "cell_type": "code",
   "execution_count": 331,
   "metadata": {},
   "outputs": [
    {
     "name": "stdout",
     "output_type": "stream",
     "text": [
      "prediction [ 0.82667978  0.60626854  1.14334155 ...,  0.82603476  1.19394272\n",
      "  6.87608117]\n",
      "R^2 (percentage of variance):  0.304141587458\n",
      "coef:  [  1.05116571e-01  -3.10456909e-02  -2.46506861e-08  -1.31452592e-01\n",
      "   1.03826548e-01]\n",
      "intercept -0.146080857344\n"
     ]
    }
   ],
   "source": [
    "# WITH SCICKIT\n",
    "\n",
    "target = pd.DataFrame(data[['Tip Amount']])\n",
    "\n",
    "df = pd.DataFrame( data[['Total Amount', 'Passenger Count', 'Trip Distance (in miles)', 'Rate Code', 'Surcharge']])\n",
    "\n",
    "#Multiple Regression \n",
    "#Prediction of the tip the customer will give in function of the other variables we selected \n",
    "#X = df\n",
    "X = df[['Total Amount', 'Passenger Count', 'Trip Distance (in miles)', 'Rate Code', 'Surcharge']]\n",
    "\n",
    "y = target[\"Tip Amount\"]\n",
    "\n",
    "test_prediction = pd.DataFrame([23, 3, 2.4, 0.5, 0])\n",
    "\n",
    "lm = linear_model.LinearRegression()\n",
    "model = lm.fit(X,y)\n",
    "\n",
    "predictions = lm.predict(X)\n",
    "\n",
    "print(\"prediction\", predictions)\n",
    "\n",
    "# percentage of explained variance of the predictions\n",
    "print(\"R^2 (percentage of variance): \" ,lm.score(X,y))\n",
    "\n",
    "#coefficients for the predictors\n",
    "print(\"coef: \", lm.coef_)\n",
    "\n",
    "# intercept for the predictors\n",
    "print(\"intercept\", lm.intercept_)\n",
    "\n",
    "\n"
   ]
  },
  {
   "cell_type": "code",
   "execution_count": 336,
   "metadata": {},
   "outputs": [
    {
     "ename": "TypeError",
     "evalue": "unhashable type: 'slice'",
     "output_type": "error",
     "traceback": [
      "\u001b[0;31m---------------------------------------------------------------------------\u001b[0m",
      "\u001b[0;31mTypeError\u001b[0m                                 Traceback (most recent call last)",
      "\u001b[0;32m<ipython-input-336-760cf6a45b7b>\u001b[0m in \u001b[0;36m<module>\u001b[0;34m()\u001b[0m\n\u001b[1;32m     25\u001b[0m     \u001b[0;31m# Plot the decision boundary. For that, we will assign a color to each\u001b[0m\u001b[0;34m\u001b[0m\u001b[0;34m\u001b[0m\u001b[0m\n\u001b[1;32m     26\u001b[0m     \u001b[0;31m# point in the mesh [x_min, x_max]x[y_min, y_max].\u001b[0m\u001b[0;34m\u001b[0m\u001b[0;34m\u001b[0m\u001b[0m\n\u001b[0;32m---> 27\u001b[0;31m     \u001b[0mx_min\u001b[0m\u001b[0;34m,\u001b[0m \u001b[0mx_max\u001b[0m \u001b[0;34m=\u001b[0m \u001b[0mX\u001b[0m\u001b[0;34m[\u001b[0m\u001b[0;34m:\u001b[0m\u001b[0;34m,\u001b[0m \u001b[0;36m0\u001b[0m\u001b[0;34m]\u001b[0m\u001b[0;34m.\u001b[0m\u001b[0mmin\u001b[0m\u001b[0;34m(\u001b[0m\u001b[0;34m)\u001b[0m \u001b[0;34m-\u001b[0m \u001b[0;36m1\u001b[0m\u001b[0;34m,\u001b[0m \u001b[0mX\u001b[0m\u001b[0;34m[\u001b[0m\u001b[0;34m:\u001b[0m\u001b[0;34m,\u001b[0m \u001b[0;36m0\u001b[0m\u001b[0;34m]\u001b[0m\u001b[0;34m.\u001b[0m\u001b[0mmax\u001b[0m\u001b[0;34m(\u001b[0m\u001b[0;34m)\u001b[0m \u001b[0;34m+\u001b[0m \u001b[0;36m1\u001b[0m\u001b[0;34m\u001b[0m\u001b[0m\n\u001b[0m\u001b[1;32m     28\u001b[0m     \u001b[0my_min\u001b[0m\u001b[0;34m,\u001b[0m \u001b[0my_max\u001b[0m \u001b[0;34m=\u001b[0m \u001b[0mX\u001b[0m\u001b[0;34m[\u001b[0m\u001b[0;34m:\u001b[0m\u001b[0;34m,\u001b[0m \u001b[0;36m1\u001b[0m\u001b[0;34m]\u001b[0m\u001b[0;34m.\u001b[0m\u001b[0mmin\u001b[0m\u001b[0;34m(\u001b[0m\u001b[0;34m)\u001b[0m \u001b[0;34m-\u001b[0m \u001b[0;36m1\u001b[0m\u001b[0;34m,\u001b[0m \u001b[0mX\u001b[0m\u001b[0;34m[\u001b[0m\u001b[0;34m:\u001b[0m\u001b[0;34m,\u001b[0m \u001b[0;36m1\u001b[0m\u001b[0;34m]\u001b[0m\u001b[0;34m.\u001b[0m\u001b[0mmax\u001b[0m\u001b[0;34m(\u001b[0m\u001b[0;34m)\u001b[0m \u001b[0;34m+\u001b[0m \u001b[0;36m1\u001b[0m\u001b[0;34m\u001b[0m\u001b[0m\n\u001b[1;32m     29\u001b[0m     xx, yy = np.meshgrid(np.arange(x_min, x_max, h),\n",
      "\u001b[0;32m/usr/local/lib/python3.6/site-packages/pandas/core/frame.py\u001b[0m in \u001b[0;36m__getitem__\u001b[0;34m(self, key)\u001b[0m\n\u001b[1;32m   1962\u001b[0m             \u001b[0;32mreturn\u001b[0m \u001b[0mself\u001b[0m\u001b[0;34m.\u001b[0m\u001b[0m_getitem_multilevel\u001b[0m\u001b[0;34m(\u001b[0m\u001b[0mkey\u001b[0m\u001b[0;34m)\u001b[0m\u001b[0;34m\u001b[0m\u001b[0m\n\u001b[1;32m   1963\u001b[0m         \u001b[0;32melse\u001b[0m\u001b[0;34m:\u001b[0m\u001b[0;34m\u001b[0m\u001b[0m\n\u001b[0;32m-> 1964\u001b[0;31m             \u001b[0;32mreturn\u001b[0m \u001b[0mself\u001b[0m\u001b[0;34m.\u001b[0m\u001b[0m_getitem_column\u001b[0m\u001b[0;34m(\u001b[0m\u001b[0mkey\u001b[0m\u001b[0;34m)\u001b[0m\u001b[0;34m\u001b[0m\u001b[0m\n\u001b[0m\u001b[1;32m   1965\u001b[0m \u001b[0;34m\u001b[0m\u001b[0m\n\u001b[1;32m   1966\u001b[0m     \u001b[0;32mdef\u001b[0m \u001b[0m_getitem_column\u001b[0m\u001b[0;34m(\u001b[0m\u001b[0mself\u001b[0m\u001b[0;34m,\u001b[0m \u001b[0mkey\u001b[0m\u001b[0;34m)\u001b[0m\u001b[0;34m:\u001b[0m\u001b[0;34m\u001b[0m\u001b[0m\n",
      "\u001b[0;32m/usr/local/lib/python3.6/site-packages/pandas/core/frame.py\u001b[0m in \u001b[0;36m_getitem_column\u001b[0;34m(self, key)\u001b[0m\n\u001b[1;32m   1969\u001b[0m         \u001b[0;31m# get column\u001b[0m\u001b[0;34m\u001b[0m\u001b[0;34m\u001b[0m\u001b[0m\n\u001b[1;32m   1970\u001b[0m         \u001b[0;32mif\u001b[0m \u001b[0mself\u001b[0m\u001b[0;34m.\u001b[0m\u001b[0mcolumns\u001b[0m\u001b[0;34m.\u001b[0m\u001b[0mis_unique\u001b[0m\u001b[0;34m:\u001b[0m\u001b[0;34m\u001b[0m\u001b[0m\n\u001b[0;32m-> 1971\u001b[0;31m             \u001b[0;32mreturn\u001b[0m \u001b[0mself\u001b[0m\u001b[0;34m.\u001b[0m\u001b[0m_get_item_cache\u001b[0m\u001b[0;34m(\u001b[0m\u001b[0mkey\u001b[0m\u001b[0;34m)\u001b[0m\u001b[0;34m\u001b[0m\u001b[0m\n\u001b[0m\u001b[1;32m   1972\u001b[0m \u001b[0;34m\u001b[0m\u001b[0m\n\u001b[1;32m   1973\u001b[0m         \u001b[0;31m# duplicate columns & possible reduce dimensionality\u001b[0m\u001b[0;34m\u001b[0m\u001b[0;34m\u001b[0m\u001b[0m\n",
      "\u001b[0;32m/usr/local/lib/python3.6/site-packages/pandas/core/generic.py\u001b[0m in \u001b[0;36m_get_item_cache\u001b[0;34m(self, item)\u001b[0m\n\u001b[1;32m   1641\u001b[0m         \u001b[0;34m\"\"\"Return the cached item, item represents a label indexer.\"\"\"\u001b[0m\u001b[0;34m\u001b[0m\u001b[0m\n\u001b[1;32m   1642\u001b[0m         \u001b[0mcache\u001b[0m \u001b[0;34m=\u001b[0m \u001b[0mself\u001b[0m\u001b[0;34m.\u001b[0m\u001b[0m_item_cache\u001b[0m\u001b[0;34m\u001b[0m\u001b[0m\n\u001b[0;32m-> 1643\u001b[0;31m         \u001b[0mres\u001b[0m \u001b[0;34m=\u001b[0m \u001b[0mcache\u001b[0m\u001b[0;34m.\u001b[0m\u001b[0mget\u001b[0m\u001b[0;34m(\u001b[0m\u001b[0mitem\u001b[0m\u001b[0;34m)\u001b[0m\u001b[0;34m\u001b[0m\u001b[0m\n\u001b[0m\u001b[1;32m   1644\u001b[0m         \u001b[0;32mif\u001b[0m \u001b[0mres\u001b[0m \u001b[0;32mis\u001b[0m \u001b[0;32mNone\u001b[0m\u001b[0;34m:\u001b[0m\u001b[0;34m\u001b[0m\u001b[0m\n\u001b[1;32m   1645\u001b[0m             \u001b[0mvalues\u001b[0m \u001b[0;34m=\u001b[0m \u001b[0mself\u001b[0m\u001b[0;34m.\u001b[0m\u001b[0m_data\u001b[0m\u001b[0;34m.\u001b[0m\u001b[0mget\u001b[0m\u001b[0;34m(\u001b[0m\u001b[0mitem\u001b[0m\u001b[0;34m)\u001b[0m\u001b[0;34m\u001b[0m\u001b[0m\n",
      "\u001b[0;31mTypeError\u001b[0m: unhashable type: 'slice'"
     ]
    }
   ],
   "source": [
    "#***************************************************************************************************************\n",
    "#Classification ==> KNN Algo\n",
    "#***************************************************************************************************************\n",
    "n_neighbors = 15\n",
    "\n",
    "X = df[['Total Amount', 'Passenger Count', 'Trip Distance (in miles)', 'Surcharge']]\n",
    "y = target[\"Tip Amount\"]\n",
    "\n",
    "\n",
    "# Create color maps\n",
    "cmap_light = ListedColormap(['#FFAAAA', '#AAFFAA', '#AAAAFF'])\n",
    "cmap_bold = ListedColormap(['#FF0000', '#00FF00', '#0000FF'])\n",
    "\n",
    "\n",
    "\n",
    "for weights in ['uniform', 'distance']:\n",
    "    # we create an instance of Neighbours Classifier and fit the data.\n",
    "    clf = neighbors.KNeighborsClassifier(n_neighbors, weights=weights)\n",
    "    clf.fit(X, y)\n",
    "\n",
    "    # Plot the decision boundary. For that, we will assign a color to each\n",
    "    # point in the mesh [x_min, x_max]x[y_min, y_max].\n",
    "    x_min, x_max = X[:, 0].min() - 1, X[:, 0].max() + 1\n",
    "    y_min, y_max = X[:, 1].min() - 1, X[:, 1].max() + 1\n",
    "    xx, yy = np.meshgrid(np.arange(x_min, x_max, h),\n",
    "                         np.arange(y_min, y_max, h))\n",
    "    Z = clf.predict(np.c_[xx.ravel(), yy.ravel()])\n",
    "\n",
    "    # Put the result into a color plot\n",
    "    Z = Z.reshape(xx.shape)\n",
    "    plt.figure()\n",
    "    plt.pcolormesh(xx, yy, Z, cmap=cmap_light)\n",
    "\n",
    "    # Plot also the training points\n",
    "    plt.scatter(X[:, 0], X[:, 1], c=y, cmap=cmap_bold,\n",
    "                edgecolor='k', s=20)\n",
    "    plt.xlim(xx.min(), xx.max())\n",
    "    plt.ylim(yy.min(), yy.max())\n",
    "    plt.title(\"3-Class classification (k = %i, weights = '%s')\"\n",
    "              % (n_neighbors, weights))\n",
    "\n",
    "plt.show()\n",
    "\n",
    "\n",
    "\n",
    "\n",
    "\n"
   ]
  },
  {
   "cell_type": "code",
   "execution_count": null,
   "metadata": {},
   "outputs": [],
   "source": []
  },
  {
   "cell_type": "code",
   "execution_count": null,
   "metadata": {},
   "outputs": [],
   "source": [
    "i=0  \n",
    "if tip_data.ix[[i],[\"Tip Amount\"]]  == 0:\n",
    "    tip_data.ix[[i],[\"Generous or not\"]] == \"not generous\""
   ]
  },
  {
   "cell_type": "code",
   "execution_count": null,
   "metadata": {},
   "outputs": [],
   "source": [
    "#tip_data.ix[[0,1,2], ['Total Amount']]\n"
   ]
  },
  {
   "cell_type": "code",
   "execution_count": null,
   "metadata": {},
   "outputs": [],
   "source": []
  },
  {
   "cell_type": "code",
   "execution_count": null,
   "metadata": {},
   "outputs": [],
   "source": [
    "grouper = tip_data.groupby(\"Tip Amount\")\n",
    "grouper"
   ]
  },
  {
   "cell_type": "code",
   "execution_count": null,
   "metadata": {},
   "outputs": [],
   "source": [
    "tip_train.groupby(\"Total Amount\").Surcharge.describe()"
   ]
  },
  {
   "cell_type": "code",
   "execution_count": null,
   "metadata": {},
   "outputs": [],
   "source": [
    "i = 0"
   ]
  },
  {
   "cell_type": "code",
   "execution_count": null,
   "metadata": {},
   "outputs": [],
   "source": []
  },
  {
   "cell_type": "code",
   "execution_count": null,
   "metadata": {},
   "outputs": [],
   "source": []
  }
 ],
 "metadata": {
  "kernelspec": {
   "display_name": "Python 3",
   "language": "python",
   "name": "python3"
  },
  "language_info": {
   "codemirror_mode": {
    "name": "ipython",
    "version": 3
   },
   "file_extension": ".py",
   "mimetype": "text/x-python",
   "name": "python",
   "nbconvert_exporter": "python",
   "pygments_lexer": "ipython3",
   "version": "3.6.3"
  }
 },
 "nbformat": 4,
 "nbformat_minor": 2
}
