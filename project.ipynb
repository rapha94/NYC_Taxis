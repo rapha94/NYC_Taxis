{
 "cells": [
  {
   "cell_type": "code",
   "execution_count": 31,
   "metadata": {},
   "outputs": [],
   "source": [
    "import pandas as pd\n",
    "import numpy as np\n",
    "import matplotlib as mplt\n",
    "import matplotlib.pyplot as plt\n",
    "import scipy.stats as stats\n",
    "import scipy\n",
    "\n",
    "import time\n",
    "from sklearn.decomposition import PCA\n"
   ]
  },
  {
   "cell_type": "code",
   "execution_count": 2,
   "metadata": {},
   "outputs": [
    {
     "ename": "NameError",
     "evalue": "name 'pd' is not defined",
     "output_type": "error",
     "traceback": [
      "\u001b[0;31m---------------------------------------------------------------------------\u001b[0m",
      "\u001b[0;31mNameError\u001b[0m                                 Traceback (most recent call last)",
      "\u001b[0;32m<ipython-input-2-fba36cd64ab9>\u001b[0m in \u001b[0;36m<module>\u001b[0;34m()\u001b[0m\n\u001b[0;32m----> 1\u001b[0;31m \u001b[0mdata\u001b[0m \u001b[0;34m=\u001b[0m \u001b[0mpd\u001b[0m\u001b[0;34m.\u001b[0m\u001b[0mDataFrame\u001b[0m\u001b[0;34m.\u001b[0m\u001b[0mfrom_csv\u001b[0m\u001b[0;34m(\u001b[0m\u001b[0;34m\"/Users/raphaelpresberg/Desktop/Stevens/BIA 652 Multivariate Data Analysis/Project/NYC_taxis.csv\"\u001b[0m\u001b[0;34m)\u001b[0m\u001b[0;34m\u001b[0m\u001b[0m\n\u001b[0m\u001b[1;32m      2\u001b[0m \u001b[0;34m\u001b[0m\u001b[0m\n\u001b[1;32m      3\u001b[0m \u001b[0;34m\u001b[0m\u001b[0m\n\u001b[1;32m      4\u001b[0m \u001b[0;31m#data understanding\u001b[0m\u001b[0;34m\u001b[0m\u001b[0;34m\u001b[0m\u001b[0m\n\u001b[1;32m      5\u001b[0m \u001b[0mdata\u001b[0m\u001b[0;34m.\u001b[0m\u001b[0mhead\u001b[0m\u001b[0;34m(\u001b[0m\u001b[0;34m)\u001b[0m\u001b[0;34m\u001b[0m\u001b[0m\n",
      "\u001b[0;31mNameError\u001b[0m: name 'pd' is not defined"
     ]
    }
   ],
   "source": [
    "data = pd.DataFrame.from_csv(\"/Users/raphaelpresberg/Desktop/Stevens/BIA 652 Multivariate Data Analysis/Project/NYC_taxis.csv\")\n",
    "\n",
    "\n",
    "#data understanding\n",
    "data.head()\n",
    "data.tail(10)\n",
    "sLength = len(data['Pickup Time'])\n",
    "data['Trip time'] = pd.Series(np.random.randn(sLength), index = data.index)\n",
    "data['new_col'] = range(0, sLength)\n",
    "data = data.reset_index()\n",
    "data['new_col'] = data.index\n",
    "data.head()\n",
    "\n"
   ]
  },
  {
   "cell_type": "code",
   "execution_count": 114,
   "metadata": {},
   "outputs": [],
   "source": [
    "\n",
    "def basics_info (initial_numpy_array):\n",
    "    print(\"Mean: \", np.mean(initial_numpy_array))\n",
    "    #median cost of a trip without @ without taxes\n",
    "    print(\"Median: \", np.median(initial_numpy_array))\n",
    "    #The numpy.ptp() function returns the range (maximum-minimum) of values along an axis.\n",
    "    print(\"Range: \", np.ptp(initial_numpy_array))\n",
    "    #standard deviation & variance\n",
    "    print(\"SD: \", np.std(initial_numpy_array))\n",
    "    print(\"Variance: \", np.var(initial_numpy_array))\n",
    "    plt.plot(total_amount)\n",
    "    plt.show() \n",
    "\n",
    "\n",
    "#removing outliers and compute the distribution plot\n",
    "\n",
    "def removeOutliers(x):\n",
    "    a = np.array(x)\n",
    "    outlierConstant = 1\n",
    "    upper_quartile = np.percentile(a, 75)\n",
    "    lower_quartile = np.percentile(a, 25)\n",
    "    IQR = (upper_quartile - lower_quartile) * outlierConstant\n",
    "    quartileSet = (lower_quartile - IQR, upper_quartile + IQR)\n",
    "    resultList = []\n",
    "    for y in a.tolist():\n",
    "        if y >= quartileSet[0] and y <= quartileSet[1]:\n",
    "            resultList.append(y)\n",
    "    return resultList\n",
    "\n",
    "def prob_plot(variable):\n",
    "    \n",
    "    mu = np.mean(variable)\n",
    "    sigma = np.std(variable)\n",
    "\n",
    "    mu, sigma = mu, sigma\n",
    "    x = mu + sigma * np.array(variable)\n",
    "\n",
    "    # the histogram of the data\n",
    "    n, bins, patches = plt.hist(x, 50, normed=1, facecolor='g', alpha=0.95)\n",
    "\n",
    "\n",
    "    plt.xlabel(\"Prob \")\n",
    "    plt.ylabel('Probability')\n",
    "    plt.title('Proba Plot')\n",
    "    plt.text(60, .025, r'$\\mu=100,\\ \\sigma=15$')\n",
    "    plt.axis([20, 190, 0, 0.03])\n",
    "    plt.grid(True)\n",
    "    plt.show()\n",
    "    \n",
    "\n"
   ]
  },
  {
   "cell_type": "code",
   "execution_count": 1,
   "metadata": {},
   "outputs": [
    {
     "ename": "NameError",
     "evalue": "name 'data' is not defined",
     "output_type": "error",
     "traceback": [
      "\u001b[0;31m---------------------------------------------------------------------------\u001b[0m",
      "\u001b[0;31mNameError\u001b[0m                                 Traceback (most recent call last)",
      "\u001b[0;32m<ipython-input-1-77036aa286a5>\u001b[0m in \u001b[0;36m<module>\u001b[0;34m()\u001b[0m\n\u001b[1;32m      2\u001b[0m \u001b[0;31m#STUDY FOR TOTAL AMOUNT\u001b[0m\u001b[0;34m\u001b[0m\u001b[0;34m\u001b[0m\u001b[0m\n\u001b[1;32m      3\u001b[0m \u001b[0;31m#*******************************************\u001b[0m\u001b[0;34m\u001b[0m\u001b[0;34m\u001b[0m\u001b[0m\n\u001b[0;32m----> 4\u001b[0;31m \u001b[0mtotal_amount\u001b[0m \u001b[0;34m=\u001b[0m \u001b[0mdata\u001b[0m\u001b[0;34m.\u001b[0m\u001b[0mas_matrix\u001b[0m\u001b[0;34m(\u001b[0m\u001b[0mcolumns\u001b[0m \u001b[0;34m=\u001b[0m \u001b[0mdata\u001b[0m\u001b[0;34m.\u001b[0m\u001b[0mcolumns\u001b[0m\u001b[0;34m[\u001b[0m\u001b[0;36m19\u001b[0m\u001b[0;34m:\u001b[0m\u001b[0;36m20\u001b[0m\u001b[0;34m]\u001b[0m\u001b[0;34m)\u001b[0m\u001b[0;34m\u001b[0m\u001b[0m\n\u001b[0m\u001b[1;32m      5\u001b[0m \u001b[0;34m\u001b[0m\u001b[0m\n\u001b[1;32m      6\u001b[0m \u001b[0mbasics_info\u001b[0m\u001b[0;34m(\u001b[0m\u001b[0mtotal_amount\u001b[0m\u001b[0;34m)\u001b[0m\u001b[0;34m\u001b[0m\u001b[0m\n",
      "\u001b[0;31mNameError\u001b[0m: name 'data' is not defined"
     ]
    }
   ],
   "source": [
    "#*******************************************\n",
    "#STUDY FOR TOTAL AMOUNT \n",
    "#*******************************************\n",
    "total_amount = data.as_matrix(columns = data.columns[19:20])\n",
    "\n",
    "basics_info(total_amount)\n",
    "good_total_amount = removeOutliers(total_amount)\n",
    "prob_plot(good_total_amount)\n"
   ]
  },
  {
   "cell_type": "code",
   "execution_count": 104,
   "metadata": {},
   "outputs": [],
   "source": [
    "#*******************************************\n",
    "#STUDY FOR FARE AMOUNT \n",
    "#*******************************************\n",
    "\n",
    "fare_amount = data.as_matrix(columns=data.columns[17:118])\n",
    "\n",
    "basics_info(fare_amount)\n",
    "good_fair_amount = removeOutliers(fare_amount)\n",
    "prob_plot(good_fair_amount)\n",
    "\n"
   ]
  },
  {
   "cell_type": "code",
   "execution_count": 117,
   "metadata": {},
   "outputs": [
    {
     "name": "stdout",
     "output_type": "stream",
     "text": [
      "Mean:  12.4179262625\n",
      "Median:  9.0\n",
      "Range:  3105.5\n",
      "SD:  11.2534498698\n",
      "Variance:  126.640133973\n"
     ]
    },
    {
     "data": {
      "image/png": "[encoded data removed]",
      "text/plain": [
       "<matplotlib.figure.Figure at 0x114ea85c0>"
      ]
     },
     "metadata": {},
     "output_type": "display_data"
    },
    {
     "data": {
      "image/png": "[encoded data removed]",
      "text/plain": [
       "<matplotlib.figure.Figure at 0x11d74f4e0>"
      ]
     },
     "metadata": {},
     "output_type": "display_data"
    }
   ],
   "source": [
    "#*******************************************\n",
    "#STUDY FOR TIP AMOUNT \n",
    "#*******************************************\n",
    "\n",
    "tip_amount = data.as_matrix(columns=data.columns[14:15])\n",
    "\n",
    "basics_info(tip_amount)\n",
    "good_tip_amount = removeOutliers(tip_amount)\n",
    "prob_plot(good_tip_amount)\n"
   ]
  },
  {
   "cell_type": "code",
   "execution_count": null,
   "metadata": {},
   "outputs": [],
   "source": [
    "x = total_amount\n",
    "pca = PCA(n_components=1)\n",
    "pca.fit(x)\n",
    "print(pca.explained_variance_ratio_)\n",
    "print(pca.singular_values_)  \n",
    "\n"
   ]
  },
  {
   "cell_type": "code",
   "execution_count": 37,
   "metadata": {},
   "outputs": [
    {
     "data": {
      "text/plain": [
       "['0', '00', '00.000']"
      ]
     },
     "execution_count": 37,
     "metadata": {},
     "output_type": "execute_result"
    }
   ],
   "source": [
    "#a = pickup time\n",
    "#b = dropoff time\n",
    "a = data.as_matrix(columns=data.columns[0:1])\n",
    "b = data.as_matrix(columns=data.columns[2:3])\n",
    "c = \"0:00:00.000\"\n",
    "a\n",
    "#x = a[0]\n",
    "c.split(':')\n"
   ]
  },
  {
   "cell_type": "code",
   "execution_count": 38,
   "metadata": {},
   "outputs": [
    {
     "name": "stdout",
     "output_type": "stream",
     "text": [
      "time.struct_time(tm_year=1900, tm_mon=1, tm_mday=1, tm_hour=17, tm_min=53, tm_sec=59, tm_wday=0, tm_yday=1, tm_isdst=-1)\n"
     ]
    },
    {
     "data": {
      "text/plain": [
       "1073"
      ]
     },
     "execution_count": 38,
     "metadata": {},
     "output_type": "execute_result"
    }
   ],
   "source": [
    "#%H # ==> heure pour heures de 1 a 23\n",
    "#%M # ==> minutes \n",
    "\n",
    "# string to time tuple\n",
    "time_str = \"17:53:59\"\n",
    "time_tuple = time.strptime(time_str, \"%H:%M:%S\")\n",
    "print(time_tuple)\n",
    "x= time_tuple[3:5]\n",
    "nb_minutes = x[0]*60 + x[1]\n",
    "nb_minutes"
   ]
  },
  {
   "cell_type": "code",
   "execution_count": 39,
   "metadata": {},
   "outputs": [
    {
     "data": {
      "text/plain": [
       "1     [0   2015-01-01\\nName,  1, dtype,  datetime64[...\n",
       "2     [0   2015-01-01\\nName,  2, dtype,  datetime64[...\n",
       "3     [0   2015-01-01\\nName,  3, dtype,  datetime64[...\n",
       "4     [0   2015-01-01\\nName,  4, dtype,  datetime64[...\n",
       "5     [0   2015-01-01\\nName,  5, dtype,  datetime64[...\n",
       "6     [0   2015-01-01\\nName,  6, dtype,  datetime64[...\n",
       "7     [0   2015-01-01\\nName,  7, dtype,  datetime64[...\n",
       "8     [0   2015-01-01\\nName,  8, dtype,  datetime64[...\n",
       "9     [0   2015-01-01\\nName,  9, dtype,  datetime64[...\n",
       "10    [0   2015-01-01\\nName,  10, dtype,  datetime64...\n",
       "11    [0   2015-01-01\\nName,  11, dtype,  datetime64...\n",
       "12    [0   2015-01-01\\nName,  12, dtype,  datetime64...\n",
       "13    [0   2015-01-01\\nName,  13, dtype,  datetime64...\n",
       "14    [0   2015-01-01\\nName,  14, dtype,  datetime64...\n",
       "15    [0   2015-01-01\\nName,  15, dtype,  datetime64...\n",
       "16    [0   2015-01-01\\nName,  16, dtype,  datetime64...\n",
       "17    [0   2015-01-01\\nName,  17, dtype,  datetime64...\n",
       "18    [0   2015-01-01\\nName,  18, dtype,  datetime64...\n",
       "19    [0   2015-01-01\\nName,  19, dtype,  datetime64...\n",
       "20    [0   2015-01-01\\nName,  20, dtype,  datetime64...\n",
       "21    [0   2015-01-01\\nName,  21, dtype,  datetime64...\n",
       "22    [0   2015-01-01\\nName,  22, dtype,  datetime64...\n",
       "23    [0   2015-01-01\\nName,  23, dtype,  datetime64...\n",
       "24    [0   2015-01-01\\nName,  24, dtype,  datetime64...\n",
       "25    [0   2015-01-01\\nName,  25, dtype,  datetime64...\n",
       "26    [0   2015-01-01\\nName,  26, dtype,  datetime64...\n",
       "27    [0   2015-01-01\\nName,  27, dtype,  datetime64...\n",
       "28    [0   2015-01-01\\nName,  28, dtype,  datetime64...\n",
       "29    [0   2015-01-01\\nName,  29, dtype,  datetime64...\n",
       "30    [0   2015-01-01\\nName,  30, dtype,  datetime64...\n",
       "                            ...                        \n",
       "70    [0   2015-01-01\\nName,  70, dtype,  datetime64...\n",
       "71    [0   2015-01-01\\nName,  71, dtype,  datetime64...\n",
       "72    [0   2015-01-01\\nName,  72, dtype,  datetime64...\n",
       "73    [0   2015-01-01\\nName,  73, dtype,  datetime64...\n",
       "74    [0   2015-01-01\\nName,  74, dtype,  datetime64...\n",
       "75    [0   2015-01-01\\nName,  75, dtype,  datetime64...\n",
       "76    [0   2015-01-01\\nName,  76, dtype,  datetime64...\n",
       "77    [0   2015-01-01\\nName,  77, dtype,  datetime64...\n",
       "78    [0   2015-01-01\\nName,  78, dtype,  datetime64...\n",
       "79    [0   2015-01-01\\nName,  79, dtype,  datetime64...\n",
       "80    [0   2015-01-01\\nName,  80, dtype,  datetime64...\n",
       "81    [0   2015-01-01\\nName,  81, dtype,  datetime64...\n",
       "82    [0   2015-01-01\\nName,  82, dtype,  datetime64...\n",
       "83    [0   2015-01-01\\nName,  83, dtype,  datetime64...\n",
       "84    [0   2015-01-01\\nName,  84, dtype,  datetime64...\n",
       "85    [0   2015-01-01\\nName,  85, dtype,  datetime64...\n",
       "86    [0   2015-01-01\\nName,  86, dtype,  datetime64...\n",
       "87    [0   2015-01-01\\nName,  87, dtype,  datetime64...\n",
       "88    [0   2015-01-01\\nName,  88, dtype,  datetime64...\n",
       "89    [0   2015-01-01\\nName,  89, dtype,  datetime64...\n",
       "90    [0   2015-01-01\\nName,  90, dtype,  datetime64...\n",
       "91    [0   2015-01-01\\nName,  91, dtype,  datetime64...\n",
       "92    [0   2015-01-01\\nName,  92, dtype,  datetime64...\n",
       "93    [0   2015-01-01\\nName,  93, dtype,  datetime64...\n",
       "94    [0   2015-01-01\\nName,  94, dtype,  datetime64...\n",
       "95    [0   2015-01-01\\nName,  95, dtype,  datetime64...\n",
       "96    [0   2015-01-01\\nName,  96, dtype,  datetime64...\n",
       "97    [0   2015-01-01\\nName,  97, dtype,  datetime64...\n",
       "98    [0   2015-01-01\\nName,  98, dtype,  datetime64...\n",
       "99    [0   2015-01-01\\nName,  99, dtype,  datetime64...\n",
       "Length: 99, dtype: object"
      ]
     },
     "execution_count": 39,
     "metadata": {},
     "output_type": "execute_result"
    }
   ],
   "source": [
    "test= pd.DataFrame(a)[1:100]\n",
    "new_dt = test.apply(lambda x: str(x).split(\":\"), axis=1)\n",
    "new_dt\n",
    "#hours = new_dt.as_matrix()\n",
    "#hours\n"
   ]
  },
  {
   "cell_type": "code",
   "execution_count": null,
   "metadata": {},
   "outputs": [],
   "source": []
  },
  {
   "cell_type": "code",
   "execution_count": null,
   "metadata": {},
   "outputs": [],
   "source": []
  },
  {
   "cell_type": "code",
   "execution_count": null,
   "metadata": {},
   "outputs": [],
   "source": []
  },
  {
   "cell_type": "code",
   "execution_count": 40,
   "metadata": {},
   "outputs": [
    {
     "ename": "AttributeError",
     "evalue": "'numpy.ndarray' object has no attribute 'rpartition'",
     "output_type": "error",
     "traceback": [
      "\u001b[0;31m---------------------------------------------------------------------------\u001b[0m",
      "\u001b[0;31mAttributeError\u001b[0m                            Traceback (most recent call last)",
      "\u001b[0;32m<ipython-input-40-96468d86c976>\u001b[0m in \u001b[0;36m<module>\u001b[0;34m()\u001b[0m\n\u001b[1;32m      1\u001b[0m \u001b[0mx\u001b[0m \u001b[0;34m=\u001b[0m \u001b[0mnp\u001b[0m\u001b[0;34m.\u001b[0m\u001b[0marray\u001b[0m\u001b[0;34m(\u001b[0m\u001b[0;34m[\u001b[0m\u001b[0;34m\"fdp:connars\"\u001b[0m\u001b[0;34m,\u001b[0m  \u001b[0;34m\"fdp:salopr\"\u001b[0m\u001b[0;34m,\u001b[0m  \u001b[0;34m\"ju:jkfen\"\u001b[0m\u001b[0;34m]\u001b[0m\u001b[0;34m)\u001b[0m\u001b[0;34m\u001b[0m\u001b[0m\n\u001b[1;32m      2\u001b[0m \u001b[0;34m\u001b[0m\u001b[0m\n\u001b[0;32m----> 3\u001b[0;31m \u001b[0mx\u001b[0m\u001b[0;34m.\u001b[0m\u001b[0mrpartition\u001b[0m\u001b[0;34m(\u001b[0m\u001b[0mx\u001b[0m\u001b[0;34m,\u001b[0m\u001b[0;34m':'\u001b[0m\u001b[0;34m)\u001b[0m\u001b[0;34m\u001b[0m\u001b[0m\n\u001b[0m",
      "\u001b[0;31mAttributeError\u001b[0m: 'numpy.ndarray' object has no attribute 'rpartition'"
     ]
    }
   ],
   "source": [
    "x = np.array([\"fdp:connars\",  \"fdp:salopr\",  \"ju:jkfen\"])\n",
    "\n",
    "x.rpartition(x,':')\n"
   ]
  },
  {
   "cell_type": "code",
   "execution_count": null,
   "metadata": {},
   "outputs": [],
   "source": [
    "type(data.columns[1])\n"
   ]
  },
  {
   "cell_type": "code",
   "execution_count": 119,
   "metadata": {},
   "outputs": [
    {
     "data": {
      "text/html": [
       "<div>\n",
       "<style>\n",
       "    .dataframe thead tr:only-child th {\n",
       "        text-align: right;\n",
       "    }\n",
       "\n",
       "    .dataframe thead th {\n",
       "        text-align: left;\n",
       "    }\n",
       "\n",
       "    .dataframe tbody tr th {\n",
       "        vertical-align: top;\n",
       "    }\n",
       "</style>\n",
       "<table border=\"1\" class=\"dataframe\">\n",
       "  <thead>\n",
       "    <tr style=\"text-align: right;\">\n",
       "      <th></th>\n",
       "      <th>Pickup Date</th>\n",
       "      <th>Pickup Time</th>\n",
       "      <th>Dropoff Date</th>\n",
       "      <th>Dropoff Time</th>\n",
       "      <th>Vendor ID</th>\n",
       "      <th>Passenger Count</th>\n",
       "      <th>Trip Distance (in miles)</th>\n",
       "      <th>Pickup Longitude</th>\n",
       "      <th>Pickup Latitude</th>\n",
       "      <th>Rate Code</th>\n",
       "      <th>...</th>\n",
       "      <th>Dropoff Latitude</th>\n",
       "      <th>Payment Type</th>\n",
       "      <th>Fare Amount</th>\n",
       "      <th>Surcharge</th>\n",
       "      <th>MTA Tax</th>\n",
       "      <th>Tip Amount</th>\n",
       "      <th>Tolls Amount</th>\n",
       "      <th>Total Amount</th>\n",
       "      <th>Trip time</th>\n",
       "      <th>new_col</th>\n",
       "    </tr>\n",
       "  </thead>\n",
       "  <tbody>\n",
       "    <tr>\n",
       "      <th>0</th>\n",
       "      <td>2015-01-01</td>\n",
       "      <td>0:00:00.000</td>\n",
       "      <td>20150101</td>\n",
       "      <td>0:00:00.000</td>\n",
       "      <td>VTS</td>\n",
       "      <td>1</td>\n",
       "      <td>1.68</td>\n",
       "      <td>-73.991547</td>\n",
       "      <td>40.750069</td>\n",
       "      <td>1</td>\n",
       "      <td>...</td>\n",
       "      <td>0.000000</td>\n",
       "      <td>CSH</td>\n",
       "      <td>10.0</td>\n",
       "      <td>0.0</td>\n",
       "      <td>0.5</td>\n",
       "      <td>0.0</td>\n",
       "      <td>0.0</td>\n",
       "      <td>10.8</td>\n",
       "      <td>-0.397498</td>\n",
       "      <td>0</td>\n",
       "    </tr>\n",
       "    <tr>\n",
       "      <th>1</th>\n",
       "      <td>2015-01-01</td>\n",
       "      <td>0:00:00.000</td>\n",
       "      <td>20150101</td>\n",
       "      <td>0:00:00.000</td>\n",
       "      <td>VTS</td>\n",
       "      <td>3</td>\n",
       "      <td>1.56</td>\n",
       "      <td>-74.001320</td>\n",
       "      <td>40.729057</td>\n",
       "      <td>1</td>\n",
       "      <td>...</td>\n",
       "      <td>40.719662</td>\n",
       "      <td>CRD</td>\n",
       "      <td>7.5</td>\n",
       "      <td>0.5</td>\n",
       "      <td>0.5</td>\n",
       "      <td>0.0</td>\n",
       "      <td>0.0</td>\n",
       "      <td>8.8</td>\n",
       "      <td>1.015633</td>\n",
       "      <td>1</td>\n",
       "    </tr>\n",
       "    <tr>\n",
       "      <th>2</th>\n",
       "      <td>2015-01-01</td>\n",
       "      <td>0:00:00.000</td>\n",
       "      <td>20150101</td>\n",
       "      <td>0:11:26.000</td>\n",
       "      <td>CMT</td>\n",
       "      <td>5</td>\n",
       "      <td>4.00</td>\n",
       "      <td>-73.971436</td>\n",
       "      <td>40.760201</td>\n",
       "      <td>1</td>\n",
       "      <td>...</td>\n",
       "      <td>40.768269</td>\n",
       "      <td>CSH</td>\n",
       "      <td>13.5</td>\n",
       "      <td>0.5</td>\n",
       "      <td>0.5</td>\n",
       "      <td>0.0</td>\n",
       "      <td>0.0</td>\n",
       "      <td>14.5</td>\n",
       "      <td>-2.351391</td>\n",
       "      <td>2</td>\n",
       "    </tr>\n",
       "    <tr>\n",
       "      <th>3</th>\n",
       "      <td>2015-01-01</td>\n",
       "      <td>0:00:01.000</td>\n",
       "      <td>20150101</td>\n",
       "      <td>0:03:49.000</td>\n",
       "      <td>CMT</td>\n",
       "      <td>1</td>\n",
       "      <td>0.80</td>\n",
       "      <td>-73.860847</td>\n",
       "      <td>40.757294</td>\n",
       "      <td>1</td>\n",
       "      <td>...</td>\n",
       "      <td>40.752285</td>\n",
       "      <td>CSH</td>\n",
       "      <td>5.0</td>\n",
       "      <td>0.5</td>\n",
       "      <td>0.5</td>\n",
       "      <td>0.0</td>\n",
       "      <td>0.0</td>\n",
       "      <td>6.3</td>\n",
       "      <td>-0.882375</td>\n",
       "      <td>3</td>\n",
       "    </tr>\n",
       "    <tr>\n",
       "      <th>4</th>\n",
       "      <td>2015-01-01</td>\n",
       "      <td>0:00:03.000</td>\n",
       "      <td>20150101</td>\n",
       "      <td>0:10:50.000</td>\n",
       "      <td>VTS</td>\n",
       "      <td>1</td>\n",
       "      <td>1.58</td>\n",
       "      <td>-73.987579</td>\n",
       "      <td>40.765270</td>\n",
       "      <td>1</td>\n",
       "      <td>...</td>\n",
       "      <td>40.776970</td>\n",
       "      <td>CRD</td>\n",
       "      <td>9.0</td>\n",
       "      <td>0.5</td>\n",
       "      <td>0.5</td>\n",
       "      <td>1.9</td>\n",
       "      <td>0.0</td>\n",
       "      <td>12.2</td>\n",
       "      <td>-0.441470</td>\n",
       "      <td>4</td>\n",
       "    </tr>\n",
       "  </tbody>\n",
       "</table>\n",
       "<p>5 rows × 22 columns</p>\n",
       "</div>"
      ],
      "text/plain": [
       "  Pickup Date  Pickup Time  Dropoff Date Dropoff Time Vendor ID  \\\n",
       "0  2015-01-01  0:00:00.000      20150101  0:00:00.000       VTS   \n",
       "1  2015-01-01  0:00:00.000      20150101  0:00:00.000       VTS   \n",
       "2  2015-01-01  0:00:00.000      20150101  0:11:26.000       CMT   \n",
       "3  2015-01-01  0:00:01.000      20150101  0:03:49.000       CMT   \n",
       "4  2015-01-01  0:00:03.000      20150101  0:10:50.000       VTS   \n",
       "\n",
       "   Passenger Count  Trip Distance (in miles)  Pickup Longitude  \\\n",
       "0                1                      1.68        -73.991547   \n",
       "1                3                      1.56        -74.001320   \n",
       "2                5                      4.00        -73.971436   \n",
       "3                1                      0.80        -73.860847   \n",
       "4                1                      1.58        -73.987579   \n",
       "\n",
       "   Pickup Latitude  Rate Code   ...    Dropoff Latitude  Payment Type  \\\n",
       "0        40.750069          1   ...            0.000000           CSH   \n",
       "1        40.729057          1   ...           40.719662           CRD   \n",
       "2        40.760201          1   ...           40.768269           CSH   \n",
       "3        40.757294          1   ...           40.752285           CSH   \n",
       "4        40.765270          1   ...           40.776970           CRD   \n",
       "\n",
       "   Fare Amount Surcharge  MTA Tax  Tip Amount  Tolls Amount  Total Amount  \\\n",
       "0         10.0       0.0      0.5         0.0           0.0          10.8   \n",
       "1          7.5       0.5      0.5         0.0           0.0           8.8   \n",
       "2         13.5       0.5      0.5         0.0           0.0          14.5   \n",
       "3          5.0       0.5      0.5         0.0           0.0           6.3   \n",
       "4          9.0       0.5      0.5         1.9           0.0          12.2   \n",
       "\n",
       "   Trip time  new_col  \n",
       "0  -0.397498        0  \n",
       "1   1.015633        1  \n",
       "2  -2.351391        2  \n",
       "3  -0.882375        3  \n",
       "4  -0.441470        4  \n",
       "\n",
       "[5 rows x 22 columns]"
      ]
     },
     "execution_count": 119,
     "metadata": {},
     "output_type": "execute_result"
    }
   ],
   "source": [
    "#if (drop off date = pickup date):\n",
    "#    Dropoff Time - Pickup Time\n",
    "#else: \n",
    "#    abs_value =abs(DT - PT)\n",
    "#    1440 - abs_value\n",
    "\n",
    "data.head()\n",
    "\n"
   ]
  },
  {
   "cell_type": "code",
   "execution_count": null,
   "metadata": {},
   "outputs": [],
   "source": []
  },
  {
   "cell_type": "code",
   "execution_count": null,
   "metadata": {},
   "outputs": [],
   "source": [
    "\n",
    "#DIstance between 2 strings\n",
    "\n",
    "s1 = \"helo\"\n",
    "s2 = \"hello\"\n",
    "\n",
    "def levenshtein(s1, s2):\n",
    "    if len(s1) < len(s2):\n",
    "        return levenshtein(s2, s1)\n",
    "\n",
    "    # len(s1) >= len(s2)\n",
    "    if len(s2) == 0:\n",
    "        return len(s1)\n",
    "\n",
    "    previous_row = range(len(s2) + 1)\n",
    "    for i, c1 in enumerate(s1):\n",
    "        current_row = [i + 1]\n",
    "        for j, c2 in enumerate(s2):\n",
    "            insertions = previous_row[j + 1] + 1 # j+1 instead of j since previous_row and current_row are one character longer\n",
    "            deletions = current_row[j] + 1       # than s2\n",
    "            substitutions = previous_row[j] + (c1 != c2)\n",
    "            current_row.append(min(insertions, deletions, substitutions))\n",
    "        previous_row = current_row\n",
    "    \n",
    "    return previous_row[-1]\n",
    "\n",
    "levenshtein(s1, s2)"
   ]
  },
  {
   "cell_type": "code",
   "execution_count": null,
   "metadata": {},
   "outputs": [],
   "source": [
    "data.columns[0]"
   ]
  },
  {
   "cell_type": "code",
   "execution_count": null,
   "metadata": {},
   "outputs": [],
   "source": [
    "data.head()"
   ]
  },
  {
   "cell_type": "code",
   "execution_count": 126,
   "metadata": {},
   "outputs": [
    {
     "ename": "NameError",
     "evalue": "name 'mean' is not defined",
     "output_type": "error",
     "traceback": [
      "\u001b[0;31m---------------------------------------------------------------------------\u001b[0m",
      "\u001b[0;31mNameError\u001b[0m                                 Traceback (most recent call last)",
      "\u001b[0;32m<ipython-input-126-2044d26cd202>\u001b[0m in \u001b[0;36m<module>\u001b[0;34m()\u001b[0m\n\u001b[1;32m      1\u001b[0m \u001b[0ma\u001b[0m \u001b[0;34m=\u001b[0m \u001b[0mdata\u001b[0m\u001b[0;34m.\u001b[0m\u001b[0mas_matrix\u001b[0m\u001b[0;34m(\u001b[0m\u001b[0mcolumns\u001b[0m\u001b[0;34m=\u001b[0m\u001b[0mdata\u001b[0m\u001b[0;34m.\u001b[0m\u001b[0mcolumns\u001b[0m\u001b[0;34m[\u001b[0m\u001b[0;36m5\u001b[0m\u001b[0;34m:\u001b[0m\u001b[0;36m6\u001b[0m\u001b[0;34m]\u001b[0m\u001b[0;34m)\u001b[0m\u001b[0;34m\u001b[0m\u001b[0m\n\u001b[0;32m----> 2\u001b[0;31m \u001b[0mmean\u001b[0m\u001b[0;34m(\u001b[0m\u001b[0ma\u001b[0m\u001b[0;34m)\u001b[0m\u001b[0;34m\u001b[0m\u001b[0m\n\u001b[0m",
      "\u001b[0;31mNameError\u001b[0m: name 'mean' is not defined"
     ]
    }
   ],
   "source": [
    "a = data.as_matrix(columns=data.columns[5:6])\n",
    "\n"
   ]
  },
  {
   "cell_type": "code",
   "execution_count": 127,
   "metadata": {},
   "outputs": [
    {
     "data": {
      "text/plain": [
       "['Pickup Date',\n",
       " 'Pickup Time',\n",
       " 'Dropoff Date',\n",
       " 'Dropoff Time',\n",
       " 'Vendor ID',\n",
       " 'Passenger Count',\n",
       " 'Trip Distance (in miles)',\n",
       " 'Pickup Longitude',\n",
       " 'Pickup Latitude',\n",
       " 'Rate Code',\n",
       " 'Store and Forward Flag',\n",
       " 'Dropoff Longitude',\n",
       " 'Dropoff Latitude',\n",
       " 'Payment Type',\n",
       " 'Fare Amount',\n",
       " 'Surcharge',\n",
       " 'MTA Tax',\n",
       " 'Tip Amount',\n",
       " 'Tolls Amount',\n",
       " 'Total Amount',\n",
       " 'Trip time',\n",
       " 'new_col']"
      ]
     },
     "execution_count": 127,
     "metadata": {},
     "output_type": "execute_result"
    }
   ],
   "source": [
    "list(data)"
   ]
  },
  {
   "cell_type": "code",
   "execution_count": 128,
   "metadata": {},
   "outputs": [],
   "source": [
    "#dummy variable "
   ]
  },
  {
   "cell_type": "code",
   "execution_count": null,
   "metadata": {},
   "outputs": [],
   "source": []
  },
  {
   "cell_type": "code",
   "execution_count": null,
   "metadata": {},
   "outputs": [],
   "source": []
  },
  {
   "cell_type": "code",
   "execution_count": null,
   "metadata": {},
   "outputs": [],
   "source": []
  }
 ],
 "metadata": {
  "kernelspec": {
   "display_name": "Python 3",
   "language": "python",
   "name": "python3"
  },
  "language_info": {
   "codemirror_mode": {
    "name": "ipython",
    "version": 3
   },
   "file_extension": ".py",
   "mimetype": "text/x-python",
   "name": "python",
   "nbconvert_exporter": "python",
   "pygments_lexer": "ipython3",
   "version": "3.6.3"
  }
 },
 "nbformat": 4,
 "nbformat_minor": 2
}
